{
 "cells": [
  {
   "cell_type": "markdown",
   "metadata": {
    "id": "aAjb_hDyTKQh"
   },
   "source": [
    "# Tic Tac Toe Game \n",
    "##### Scratch Building\n",
    "##### No GUI Required "
   ]
  },
  {
   "cell_type": "markdown",
   "metadata": {
    "id": "NG1KZg4sTKQj"
   },
   "source": [
    "#### Some suggested tools before you get started:\n",
    "To take input from a user:\n",
    "\n",
    "    player1 = input(\"Please pick a marker 'X' or 'O'\")\n",
    "    \n",
    "Note that input() takes in a string. If you need an integer value, use\n",
    "\n",
    "    position = int(input('Please enter a number'))\n",
    "    \n",
    "<br>To clear the screen between moves:\n",
    "\n",
    "    from IPython.display import clear_output\n",
    "    clear_output()\n",
    "    \n",
    "Note that clear_output() will only work in jupyter. To clear the screen in other IDEs, consider:\n",
    "\n",
    "    print('\\n'*100)\n",
    "    \n",
    "This scrolls the previous board up out of view. Now on to the program!"
   ]
  },
  {
   "cell_type": "markdown",
   "metadata": {
    "id": "eq31aKoKTKQk"
   },
   "source": [
    "**Step 1: Write a function that can print out a board. Set up your board as a list, where each index 1-9 corresponds with a number on a number pad, so you get a 3 by 3 board representation.**"
   ]
  },
  {
   "cell_type": "code",
   "execution_count": 1,
   "metadata": {
    "id": "v6oZEXZXTKQl"
   },
   "outputs": [],
   "source": [
    "from IPython.display import clear_output\n",
    "\n",
    "def display_board(board):\n",
    "    print (board[0],'|',board[1],'|',board[2])\n",
    "    print('----------')\n",
    "    print (board[3],'|',board[4],'|',board[5])\n",
    "    print('----------')\n",
    "    print (board[6],'|',board[7],'|',board[8])\n",
    " "
   ]
  },
  {
   "cell_type": "markdown",
   "metadata": {
    "id": "YE-nz_ETTKQo"
   },
   "source": [
    "**TEST Step 1:** run your function on a test version of the board list, and make adjustments as necessary"
   ]
  },
  {
   "cell_type": "code",
   "execution_count": 2,
   "metadata": {
    "colab": {
     "base_uri": "https://localhost:8080/",
     "height": 121
    },
    "id": "4iQ9D-u5TKQp",
    "outputId": "59ff7cb4-7211-4d99-f8bf-2ca4167db697"
   },
   "outputs": [
    {
     "name": "stdout",
     "output_type": "stream",
     "text": [
      "X | O | X\n",
      "----------\n",
      "O | X | O\n",
      "----------\n",
      "X | O | X\n"
     ]
    }
   ],
   "source": [
    "test_board = ['X','O','X','O','X','O','X','O','X']\n",
    "display_board(test_board)"
   ]
  },
  {
   "cell_type": "markdown",
   "metadata": {
    "id": "WxeUw0FhTKQr"
   },
   "source": [
    "**Step 2: Write a function that can take in a player input and assign their marker as 'X' or 'O'. Think about using *while* loops to continually ask until you get a correct answer.**"
   ]
  },
  {
   "cell_type": "code",
   "execution_count": 3,
   "metadata": {
    "id": "MG0XC4aXTKQs"
   },
   "outputs": [],
   "source": [
    "def player_input():\n",
    "    while 1:\n",
    "        a=input(\"please enter 'X' or 'O'\").upper()\n",
    "        if a == 'X':\n",
    "            return ('X','O')\n",
    "        if a == 'O':\n",
    "            return ('O','X')\n",
    "            break\n",
    "        else:\n",
    "            print ('invaled input')\n",
    "        \n"
   ]
  },
  {
   "cell_type": "markdown",
   "metadata": {
    "id": "6fVimbgzTKQu"
   },
   "source": [
    "**TEST Step 2:** run the function to make sure it returns the desired output"
   ]
  },
  {
   "cell_type": "code",
   "execution_count": 4,
   "metadata": {
    "id": "PJSO5QX1TKQu"
   },
   "outputs": [
    {
     "name": "stdin",
     "output_type": "stream",
     "text": [
      "please enter 'X' or 'O' \n"
     ]
    },
    {
     "name": "stdout",
     "output_type": "stream",
     "text": [
      "invaled input\n"
     ]
    },
    {
     "name": "stdin",
     "output_type": "stream",
     "text": [
      "please enter 'X' or 'O' \n"
     ]
    },
    {
     "name": "stdout",
     "output_type": "stream",
     "text": [
      "invaled input\n"
     ]
    },
    {
     "name": "stdin",
     "output_type": "stream",
     "text": [
      "please enter 'X' or 'O' x\n"
     ]
    },
    {
     "data": {
      "text/plain": [
       "('X', 'O')"
      ]
     },
     "execution_count": 4,
     "metadata": {},
     "output_type": "execute_result"
    }
   ],
   "source": [
    "player_input()"
   ]
  },
  {
   "cell_type": "markdown",
   "metadata": {
    "id": "aQN1q9gGTKQw"
   },
   "source": [
    "**Step 3: Write a function that takes in the board list object, a marker ('X' or 'O'), and a desired position (number 1-9) and assigns it to the board.**"
   ]
  },
  {
   "cell_type": "code",
   "execution_count": 5,
   "metadata": {
    "id": "drK45WDaTKQx"
   },
   "outputs": [],
   "source": [
    "def place_marker(board, marker, position):\n",
    "    board[position] = marker\n",
    "    return board"
   ]
  },
  {
   "cell_type": "markdown",
   "metadata": {
    "id": "gapk660ATKQz"
   },
   "source": [
    "**TEST Step 3:** run the place marker function using test parameters and display the modified board"
   ]
  },
  {
   "cell_type": "code",
   "execution_count": 6,
   "metadata": {},
   "outputs": [
    {
     "name": "stdout",
     "output_type": "stream",
     "text": [
      "X | # | X\n",
      "----------\n",
      "O | X | O\n",
      "----------\n",
      "X | O | X\n"
     ]
    }
   ],
   "source": [
    "display_board(place_marker(test_board, '#', 1))"
   ]
  },
  {
   "cell_type": "markdown",
   "metadata": {
    "id": "4vIDyBjrTKQ0"
   },
   "source": [
    "# place_marker(test_board,'$',3)\n",
    "display_board(test_board)"
   ]
  },
  {
   "cell_type": "markdown",
   "metadata": {
    "id": "vRuvrYsVTKQ2"
   },
   "source": [
    "**Step 4: Write a function that takes in a board and a mark (X or O) and then checks to see if that mark has won. **"
   ]
  },
  {
   "cell_type": "code",
   "execution_count": 7,
   "metadata": {
    "id": "Zl_L_t1xTKQ2"
   },
   "outputs": [],
   "source": [
    "def win_check(theBoard, mark):\n",
    "\n",
    "    return ((theBoard[0] == mark and theBoard[1] == mark and theBoard[2] == mark) or\n",
    "            (theBoard[3] == mark and theBoard[4] == mark and theBoard[5] == mark) or\n",
    "            (theBoard[6] == mark and theBoard[7] == mark and theBoard[8] == mark) or\n",
    "            (theBoard[0] == mark and theBoard[3] == mark and theBoard[6] == mark) or\n",
    "            (theBoard[1] == mark and theBoard[4] == mark and theBoard[7] == mark) or\n",
    "            (theBoard[2] == mark and theBoard[5] == mark and theBoard[8] == mark) or\n",
    "            (theBoard[8] == mark and theBoard[4] == mark and theBoard[0] == mark) or\n",
    "            (theBoard[6] == mark and theBoard[4] == mark and theBoard[2] == mark))"
   ]
  },
  {
   "cell_type": "markdown",
   "metadata": {
    "id": "D9tY6vCHTKQ4"
   },
   "source": [
    "**TEST Step 4:** run the win_check function against our test_board - it should return True"
   ]
  },
  {
   "cell_type": "code",
   "execution_count": 8,
   "metadata": {
    "id": "W_rBIIOCTKQ5"
   },
   "outputs": [
    {
     "data": {
      "text/plain": [
       "True"
      ]
     },
     "execution_count": 8,
     "metadata": {},
     "output_type": "execute_result"
    }
   ],
   "source": [
    "board = ['X','O','X','O','X','O','X','O','X']\n",
    "win_check(board,'X')"
   ]
  },
  {
   "cell_type": "markdown",
   "metadata": {
    "id": "ROj56ItpTKQ7"
   },
   "source": [
    "**Step 5: Write a function that uses the random module to randomly decide which player goes first. You may want to lookup random.randint() Return a string of which player went first.**"
   ]
  },
  {
   "cell_type": "code",
   "execution_count": 9,
   "metadata": {
    "id": "NMgrAjU3TKQ7"
   },
   "outputs": [],
   "source": [
    "import random\n",
    "\n",
    "def choose_first():\n",
    "    x= random.randint(0,1)\n",
    "    if  x == 0:\n",
    "        return \"player1\" \n",
    "    else:\n",
    "        return \"player2\""
   ]
  },
  {
   "cell_type": "markdown",
   "metadata": {
    "id": "7H1uXKU-TKQ9"
   },
   "source": [
    "**Step 6: Write a function that returns a boolean indicating whether a space on the board is freely available.**"
   ]
  },
  {
   "cell_type": "code",
   "execution_count": 10,
   "metadata": {},
   "outputs": [
    {
     "data": {
      "text/plain": [
       "'player1'"
      ]
     },
     "execution_count": 10,
     "metadata": {},
     "output_type": "execute_result"
    }
   ],
   "source": [
    "choose_first()"
   ]
  },
  {
   "cell_type": "code",
   "execution_count": 11,
   "metadata": {
    "id": "i0rtv4b3TKQ-"
   },
   "outputs": [],
   "source": [
    "def space_check(board, position):\n",
    "    if board[position]== ' ':\n",
    "        return True \n",
    "    else:\n",
    "        return False"
   ]
  },
  {
   "cell_type": "markdown",
   "metadata": {
    "id": "TKfVJE_KTKRA"
   },
   "source": [
    "**Step 7: Write a function that checks if the board is full and returns a boolean value. True if full, False otherwise.**"
   ]
  },
  {
   "cell_type": "code",
   "execution_count": 14,
   "metadata": {
    "id": "Vsa0TroYTKRB"
   },
   "outputs": [],
   "source": [
    "def full_board_check(board):\n",
    "    for i in range(len(board)):\n",
    "        return ' ' in board"
   ]
  },
  {
   "cell_type": "markdown",
   "metadata": {
    "id": "ju-R3rRATKRD"
   },
   "source": [
    "**Step 8: Write a function that asks for a player's next position (as a number 1-9) and then uses the function from step 6 to check if it's a free position. If it is, then return the position for later use.**"
   ]
  },
  {
   "cell_type": "code",
   "execution_count": 15,
   "metadata": {
    "id": "zLusZVZETKRE"
   },
   "outputs": [],
   "source": [
    "def player_choice(board):\n",
    "    a =int(input(\"enter the position from 1 to 9\"))\n",
    "    if a in range(1,10):\n",
    "        return a-1"
   ]
  },
  {
   "cell_type": "markdown",
   "metadata": {
    "id": "E9ryWxTdTKRG"
   },
   "source": [
    "**Step 9: Write a function that asks the player if they want to play again and returns a boolean True if they do want to play again.**"
   ]
  },
  {
   "cell_type": "code",
   "execution_count": 16,
   "metadata": {},
   "outputs": [
    {
     "name": "stdin",
     "output_type": "stream",
     "text": [
      "enter the position from 1 to 9 1\n"
     ]
    },
    {
     "data": {
      "text/plain": [
       "0"
      ]
     },
     "execution_count": 16,
     "metadata": {},
     "output_type": "execute_result"
    }
   ],
   "source": [
    "board = ['X','O','X','O','X','O',' ','O','X']\n",
    "player_choice(board)"
   ]
  },
  {
   "cell_type": "code",
   "execution_count": 17,
   "metadata": {
    "id": "1_Nt3ngsTKRG"
   },
   "outputs": [],
   "source": [
    "def replay():\n",
    "    print('Replay?')\n",
    "    a=input(\"Y/N\").upper()\n",
    "    if a == 'Y':\n",
    "        return True\n",
    "    else:\n",
    "        return False"
   ]
  },
  {
   "cell_type": "markdown",
   "metadata": {
    "id": "gjLdHz0MTKRI"
   },
   "source": [
    "**Step 10: Here comes the hard part! Use while loops and the functions you've made to run the game!**"
   ]
  },
  {
   "cell_type": "code",
   "execution_count": 18,
   "metadata": {},
   "outputs": [
    {
     "name": "stdout",
     "output_type": "stream",
     "text": [
      "Replay?\n"
     ]
    },
    {
     "name": "stdin",
     "output_type": "stream",
     "text": [
      "Y/N y\n"
     ]
    },
    {
     "data": {
      "text/plain": [
       "True"
      ]
     },
     "execution_count": 18,
     "metadata": {},
     "output_type": "execute_result"
    }
   ],
   "source": [
    "replay()"
   ]
  },
  {
   "cell_type": "code",
   "execution_count": 23,
   "metadata": {
    "id": "84vKO9k9TKRJ"
   },
   "outputs": [
    {
     "name": "stdout",
     "output_type": "stream",
     "text": [
      "Welcome to Tic Tac Toe!\n"
     ]
    },
    {
     "name": "stdin",
     "output_type": "stream",
     "text": [
      "please enter 'X' or 'O' x\n"
     ]
    },
    {
     "name": "stdout",
     "output_type": "stream",
     "text": [
      "player2 will go first.\n",
      "Do you want to start game or quit\n"
     ]
    },
    {
     "name": "stdin",
     "output_type": "stream",
     "text": [
      "Y/N y\n"
     ]
    },
    {
     "name": "stdout",
     "output_type": "stream",
     "text": [
      "  |   |  \n",
      "----------\n",
      "  |   |  \n",
      "----------\n",
      "  |   |  \n"
     ]
    },
    {
     "name": "stdin",
     "output_type": "stream",
     "text": [
      "enter the position from 1 to 9 1\n"
     ]
    },
    {
     "name": "stdout",
     "output_type": "stream",
     "text": [
      "O |   |  \n",
      "----------\n",
      "  |   |  \n",
      "----------\n",
      "  |   |  \n"
     ]
    },
    {
     "name": "stdin",
     "output_type": "stream",
     "text": [
      "enter the position from 1 to 9 2\n"
     ]
    },
    {
     "name": "stdout",
     "output_type": "stream",
     "text": [
      "O | X |  \n",
      "----------\n",
      "  |   |  \n",
      "----------\n",
      "  |   |  \n"
     ]
    },
    {
     "name": "stdin",
     "output_type": "stream",
     "text": [
      "enter the position from 1 to 9 3\n"
     ]
    },
    {
     "name": "stdout",
     "output_type": "stream",
     "text": [
      "O | X | O\n",
      "----------\n",
      "  |   |  \n",
      "----------\n",
      "  |   |  \n"
     ]
    },
    {
     "name": "stdin",
     "output_type": "stream",
     "text": [
      "enter the position from 1 to 9 4\n"
     ]
    },
    {
     "name": "stdout",
     "output_type": "stream",
     "text": [
      "O | X | O\n",
      "----------\n",
      "X |   |  \n",
      "----------\n",
      "  |   |  \n"
     ]
    },
    {
     "name": "stdin",
     "output_type": "stream",
     "text": [
      "enter the position from 1 to 9 5\n"
     ]
    },
    {
     "name": "stdout",
     "output_type": "stream",
     "text": [
      "O | X | O\n",
      "----------\n",
      "X | O |  \n",
      "----------\n",
      "  |   |  \n"
     ]
    },
    {
     "name": "stdin",
     "output_type": "stream",
     "text": [
      "enter the position from 1 to 9 6\n"
     ]
    },
    {
     "name": "stdout",
     "output_type": "stream",
     "text": [
      "O | X | O\n",
      "----------\n",
      "X | O | X\n",
      "----------\n",
      "  |   |  \n"
     ]
    },
    {
     "name": "stdin",
     "output_type": "stream",
     "text": [
      "enter the position from 1 to 9 8\n"
     ]
    },
    {
     "name": "stdout",
     "output_type": "stream",
     "text": [
      "O | X | O\n",
      "----------\n",
      "X | O | X\n",
      "----------\n",
      "  | O |  \n"
     ]
    },
    {
     "name": "stdin",
     "output_type": "stream",
     "text": [
      "enter the position from 1 to 9 9\n"
     ]
    },
    {
     "name": "stdout",
     "output_type": "stream",
     "text": [
      "O | X | O\n",
      "----------\n",
      "X | O | X\n",
      "----------\n",
      "  | O | X\n"
     ]
    },
    {
     "name": "stdin",
     "output_type": "stream",
     "text": [
      "enter the position from 1 to 9 7\n"
     ]
    },
    {
     "name": "stdout",
     "output_type": "stream",
     "text": [
      "O | X | O\n",
      "----------\n",
      "X | O | X\n",
      "----------\n",
      "O | O | X\n",
      "Congratulations! You have won the game!\n",
      "Replay?\n"
     ]
    },
    {
     "name": "stdin",
     "output_type": "stream",
     "text": [
      "Y/N n\n"
     ]
    }
   ],
   "source": [
    "print('Welcome to Tic Tac Toe!')\n",
    "\n",
    "\n",
    "while True:\n",
    "    # Reset the board\n",
    "    board = [' '] * 9\n",
    "    # Choose Markers\n",
    "    player_1_marker,player_2_maker=player_input()\n",
    "    # Who Starts First \n",
    "    turn = choose_first()\n",
    "    print(turn + ' will go first.')\n",
    "  \n",
    "    # Asking to Start or  End The Game\n",
    "    print('Do you want to start game or quit')\n",
    "    a=input('Y/N').upper()\n",
    "    if a=='Y':\n",
    "        v=True\n",
    "        display_board(board)\n",
    "    else:\n",
    "        v=False\n",
    "\n",
    "    while v:\n",
    "        if turn == 'player1':\n",
    "            # Player1's turn.\n",
    "            position = player_choice(board)\n",
    "            # Take His Action\n",
    "            board = place_marker(board, player_1_marker, position)\n",
    "            # Display Board \n",
    "            display_board(board)\n",
    "            # Did he Win\n",
    "            w = win_check(board, player_1_marker)\n",
    "            if w == True:\n",
    "                print('Congratulations! You have won the game!')\n",
    "                break\n",
    "            else:\n",
    "                if not full_board_check(board):\n",
    "                    print('The game is a draw!')\n",
    "                    break\n",
    "\n",
    "                else:\n",
    "                    turn = 'player2'\n",
    "\n",
    "        else:\n",
    "            turn == 'player2'\n",
    "            # Player2's turn.\n",
    "            position = player_choice(board)\n",
    "            # Take His Action\n",
    "            place_marker(board, player_2_maker, position)\n",
    "            # Display Board \n",
    "            display_board(board)\n",
    "            # Did he Win\n",
    "            w = win_check(board, player_2_maker)\n",
    "            if w == True:\n",
    "                print('Congratulations! You have won the game!')\n",
    "                break\n",
    "            else:\n",
    "                if not  full_board_check(board):\n",
    "                    print('The game is a draw!')\n",
    "                    break\n",
    "\n",
    "                else:\n",
    "                    turn = 'player1'\n",
    "\n",
    "    # Replay ?\n",
    "    r = replay()\n",
    "    if r == False:\n",
    "        break"
   ]
  },
  {
   "cell_type": "markdown",
   "metadata": {
    "id": "V3AlA00FTKRL"
   },
   "source": [
    "## Good Job!"
   ]
  }
 ],
 "metadata": {
  "colab": {
   "name": "TicTacToe.ipynb",
   "provenance": []
  },
  "kernelspec": {
   "display_name": "Python 3",
   "language": "python",
   "name": "python3"
  },
  "language_info": {
   "codemirror_mode": {
    "name": "ipython",
    "version": 3
   },
   "file_extension": ".py",
   "mimetype": "text/x-python",
   "name": "python",
   "nbconvert_exporter": "python",
   "pygments_lexer": "ipython3",
   "version": "3.8.3"
  }
 },
 "nbformat": 4,
 "nbformat_minor": 4
}
